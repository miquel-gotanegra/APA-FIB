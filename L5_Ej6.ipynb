{
 "cells": [
  {
   "attachments": {},
   "cell_type": "markdown",
   "metadata": {},
   "source": [
    "6.) Siéntate recto\n",
    "==\n",
    "Miquel Gotanegra\n"
   ]
  },
  {
   "attachments": {},
   "cell_type": "markdown",
   "metadata": {},
   "source": [
    "\n",
    "El tener una buena postura al sentarse evita muchos problemas de salud. A medida que nos\n",
    "hacemos mayores van apareciendo diversos problemas de espalda que han de diagnosticarse.\n",
    "El conjunto de datos Vertebral Column Data Set7 del repositorio de conjuntos de datos de UCI\n",
    "recoge medidas tomadas de la forma y orientación de la pelvis y la parte lumbar de la columna\n",
    "vertebral para un conjunto de pacientes sin problemas y con dos diferentes diagnósticos (hernia\n",
    "discal y Spondylolisthesis). El objetivo es obtener un modelo que pueda distinguir los pacientes\n",
    "sin problemas y los dos diagnósticos.\n",
    "En este conjunto de datos hay algo de desbalance entre las clases. La mayoría de los métodos\n",
    "de scikit-learn tienen un parámetro class_weight que permite darle el peso a las clases. Usa\n",
    "el valor \"balanced\" (se le da un peso a las clases de manera que parezca que tienen el mismo\n",
    "número de ejemplos) a la hora de ajustar los modelos que lo permitan.\n",
    "Puedes obtener estos datos mediante la función load_column de la librería apafib. Resuelve\n",
    "los siguientes apartados ilustrando los resultados de la manera que te parezca adecuada.\n"
   ]
  },
  {
   "cell_type": "code",
   "execution_count": 105,
   "metadata": {},
   "outputs": [],
   "source": [
    "# Uncomment to upgrade packages\n",
    "# !pip install pandas --user --upgrade --quiet\n",
    "# !pip install numpy==1.23.5 --user --upgrade --quiet\n",
    "# !pip install scipy --user --upgrade --quiet\n",
    "# !pip install statsmodels --user --upgrade --quiet\n",
    "# !pip install seaborn --user --upgrade --quiet\n",
    "# !pip install matplotlib --user --upgrade --quiet\n",
    "# !pip install scikit-learn --user --upgrade \n",
    "# !pip install imblearn --upgrade --user --quiet\n",
    "# !pip install scikit-optimize --user --quiet\n",
    "# !pip install dtreeviz==1.4.1 --user --upgrade  --quiet\n",
    "# !pip install yellowbrick --upgrade --user --quiet\n",
    "# !pip install apafib --upgrade --user --quiet\n",
    "# !pip install eli5 --upgrade --user --quiet"
   ]
  },
  {
   "cell_type": "code",
   "execution_count": 106,
   "metadata": {},
   "outputs": [],
   "source": [
    "import pandas as pd\n",
    "from pandas import read_csv\n",
    "\n",
    "import numpy as np\n",
    "import matplotlib.pyplot as plt\n",
    "import seaborn as sns\n",
    "\n",
    "from sklearn.model_selection import train_test_split, cross_val_score\n",
    "\n",
    "from sklearn import set_config\n",
    "\n",
    "from sklearn.metrics import  ConfusionMatrixDisplay,\\\n",
    "                  classification_report,  RocCurveDisplay, PrecisionRecallDisplay,\\\n",
    "                     f1_score, make_scorer, accuracy_score, roc_auc_score\n",
    "\n",
    "from sklearn.neural_network import MLPClassifier, MLPRegressor\n",
    "from sklearn.neighbors import KNeighborsClassifier, KNeighborsRegressor\n",
    "from sklearn.tree import DecisionTreeClassifier\n",
    "from sklearn.ensemble import RandomForestClassifier, BaggingClassifier, GradientBoostingClassifier,ExtraTreesClassifier\n",
    "\n",
    "from sklearn.linear_model import LogisticRegression, LogisticRegressionCV\n",
    "from sklearn.naive_bayes import BernoulliNB, GaussianNB, CategoricalNB, MultinomialNB\n",
    "from sklearn.ensemble import StackingClassifier, VotingClassifier\n",
    "\n",
    "from sklearn.decomposition import PCA\n",
    "from sklearn.preprocessing import StandardScaler, MinMaxScaler\n",
    "\n",
    "from sklearn.model_selection import GridSearchCV\n",
    "from yellowbrick.classifier import ROCAUC\n",
    "from yellowbrick.classifier.rocauc import roc_auc\n",
    "from skopt import BayesSearchCV\n",
    "from imblearn.under_sampling import RandomUnderSampler\n",
    "from imblearn.over_sampling import  RandomOverSampler, SMOTE\n",
    "from imblearn.pipeline import make_pipeline, Pipeline\n",
    "from sklearn.metrics import mean_squared_error, r2_score\n",
    "from sklearn.metrics import  ConfusionMatrixDisplay,\\\n",
    "                    classification_report,  RocCurveDisplay, PrecisionRecallDisplay,\\\n",
    "                    accuracy_score, f1_score, precision_score, recall_score\n",
    "from sklearn.svm import LinearSVC, SVC\n",
    "from sklearn.svm import LinearSVR, SVR\n",
    "from sklearn.ensemble import RandomForestClassifier, BaggingClassifier, GradientBoostingClassifier,ExtraTreesClassifier,RandomForestRegressor,GradientBoostingRegressor\n",
    "from sklearn.ensemble import StackingClassifier, VotingClassifier\n",
    "\n",
    "import eli5\n",
    "from dtreeviz.trees import dtreeviz\n",
    "\n",
    "import warnings\n",
    "from apafib import load_attrition\n",
    "\n",
    "set_config(display='text')\n",
    "warnings.filterwarnings('ignore')\n",
    "plt.rcParams.update({'font.size': 16})\n",
    "# sns.set()\n",
    "pd.set_option('display.precision', 3)\n",
    "from IPython.core.interactiveshell import InteractiveShell\n",
    "InteractiveShell.ast_node_interactivity = \"last_expr\"\n",
    "from IPython.display import display, HTML\n",
    "show_html = lambda html: display(HTML(html))\n",
    "\n",
    "from collections import Counter\n",
    "\n",
    "def save_results(clf, X_test, y_test, nclf, df):\n",
    "    df.loc[nclf,'test acc'] = accuracy_score(y_test, clf.predict(X_test))\n",
    "    df.loc[nclf,'precision score (W)'] = precision_score(y_test, clf.predict(X_test), average='weighted')\n",
    "    df.loc[nclf,'recall score (W)'] = recall_score(y_test, clf.predict(X_test), average='weighted')\n",
    "    df.loc[nclf,'f1 score (W)'] = f1_score(y_test, clf.predict(X_test), average='weighted')\n",
    "    return df\n",
    "\n",
    "results_df = pd.DataFrame()"
   ]
  },
  {
   "cell_type": "code",
   "execution_count": 107,
   "metadata": {},
   "outputs": [],
   "source": [
    "def save_results(clf, X_test, y_test, nclf, df):\n",
    "    df.loc[nclf,'test acc'] = accuracy_score(y_test, clf.predict(X_test))\n",
    "    df.loc[nclf,'precision score (W)'] = precision_score(y_test, clf.predict(X_test), average='weighted')\n",
    "    df.loc[nclf,'recall score (W)'] = recall_score(y_test, clf.predict(X_test), average='weighted')\n",
    "    df.loc[nclf,'f1 score (W)'] = f1_score(y_test, clf.predict(X_test), average='weighted')\n",
    "    return df\n",
    "\n",
    "results_df = pd.DataFrame()\n",
    "\n",
    "niter = 15\n",
    "cv = 5"
   ]
  },
  {
   "cell_type": "code",
   "execution_count": 108,
   "metadata": {},
   "outputs": [],
   "source": [
    "from apafib import load_column"
   ]
  },
  {
   "attachments": {},
   "cell_type": "markdown",
   "metadata": {},
   "source": [
    "<strong>\n",
    "a) Divide el conjunto de datos en entrenamiento y test (70 %/30 %). Transforma las variables\n",
    "adecuadamente para poder ajustar un modelo de clasificación tanto el conjunto de entrenamiento como el de test. Para poder comparar la eficacia de los métodos estableceremos\n",
    "la regresión logística como modelo base. Ajusta los hiperparámetros de este modelo adecuadamente y evalúa su calidad.\n"
   ]
  },
  {
   "cell_type": "code",
   "execution_count": 109,
   "metadata": {},
   "outputs": [
    {
     "data": {
      "text/html": [
       "<div>\n",
       "<style scoped>\n",
       "    .dataframe tbody tr th:only-of-type {\n",
       "        vertical-align: middle;\n",
       "    }\n",
       "\n",
       "    .dataframe tbody tr th {\n",
       "        vertical-align: top;\n",
       "    }\n",
       "\n",
       "    .dataframe thead th {\n",
       "        text-align: right;\n",
       "    }\n",
       "</style>\n",
       "<table border=\"1\" class=\"dataframe\">\n",
       "  <thead>\n",
       "    <tr style=\"text-align: right;\">\n",
       "      <th></th>\n",
       "      <th>pelvic_incidence</th>\n",
       "      <th>pelvic_tilt</th>\n",
       "      <th>lumbar_lordosis_angle</th>\n",
       "      <th>sacral_slope</th>\n",
       "      <th>pelvic_radius</th>\n",
       "      <th>degree_spondylolisthesis</th>\n",
       "      <th>class</th>\n",
       "    </tr>\n",
       "  </thead>\n",
       "  <tbody>\n",
       "    <tr>\n",
       "      <th>0</th>\n",
       "      <td>63.03</td>\n",
       "      <td>22.55</td>\n",
       "      <td>39.61</td>\n",
       "      <td>40.48</td>\n",
       "      <td>98.67</td>\n",
       "      <td>-0.25</td>\n",
       "      <td>DH</td>\n",
       "    </tr>\n",
       "    <tr>\n",
       "      <th>1</th>\n",
       "      <td>39.06</td>\n",
       "      <td>10.06</td>\n",
       "      <td>25.02</td>\n",
       "      <td>29.00</td>\n",
       "      <td>114.41</td>\n",
       "      <td>4.56</td>\n",
       "      <td>DH</td>\n",
       "    </tr>\n",
       "    <tr>\n",
       "      <th>2</th>\n",
       "      <td>68.83</td>\n",
       "      <td>22.22</td>\n",
       "      <td>50.09</td>\n",
       "      <td>46.61</td>\n",
       "      <td>105.99</td>\n",
       "      <td>-3.53</td>\n",
       "      <td>DH</td>\n",
       "    </tr>\n",
       "    <tr>\n",
       "      <th>3</th>\n",
       "      <td>69.30</td>\n",
       "      <td>24.65</td>\n",
       "      <td>44.31</td>\n",
       "      <td>44.64</td>\n",
       "      <td>101.87</td>\n",
       "      <td>11.21</td>\n",
       "      <td>DH</td>\n",
       "    </tr>\n",
       "    <tr>\n",
       "      <th>4</th>\n",
       "      <td>49.71</td>\n",
       "      <td>9.65</td>\n",
       "      <td>28.32</td>\n",
       "      <td>40.06</td>\n",
       "      <td>108.17</td>\n",
       "      <td>7.92</td>\n",
       "      <td>DH</td>\n",
       "    </tr>\n",
       "  </tbody>\n",
       "</table>\n",
       "</div>"
      ],
      "text/plain": [
       "   pelvic_incidence  pelvic_tilt  lumbar_lordosis_angle  sacral_slope  \\\n",
       "0             63.03        22.55                  39.61         40.48   \n",
       "1             39.06        10.06                  25.02         29.00   \n",
       "2             68.83        22.22                  50.09         46.61   \n",
       "3             69.30        24.65                  44.31         44.64   \n",
       "4             49.71         9.65                  28.32         40.06   \n",
       "\n",
       "   pelvic_radius  degree_spondylolisthesis class  \n",
       "0          98.67                     -0.25    DH  \n",
       "1         114.41                      4.56    DH  \n",
       "2         105.99                     -3.53    DH  \n",
       "3         101.87                     11.21    DH  \n",
       "4         108.17                      7.92    DH  "
      ]
     },
     "execution_count": 109,
     "metadata": {},
     "output_type": "execute_result"
    }
   ],
   "source": [
    "df = load_column()\n",
    "df.head()"
   ]
  },
  {
   "cell_type": "code",
   "execution_count": 110,
   "metadata": {},
   "outputs": [
    {
     "data": {
      "text/html": [
       "<div>\n",
       "<style scoped>\n",
       "    .dataframe tbody tr th:only-of-type {\n",
       "        vertical-align: middle;\n",
       "    }\n",
       "\n",
       "    .dataframe tbody tr th {\n",
       "        vertical-align: top;\n",
       "    }\n",
       "\n",
       "    .dataframe thead th {\n",
       "        text-align: right;\n",
       "    }\n",
       "</style>\n",
       "<table border=\"1\" class=\"dataframe\">\n",
       "  <thead>\n",
       "    <tr style=\"text-align: right;\">\n",
       "      <th></th>\n",
       "      <th>count</th>\n",
       "      <th>unique</th>\n",
       "      <th>top</th>\n",
       "      <th>freq</th>\n",
       "      <th>mean</th>\n",
       "      <th>std</th>\n",
       "      <th>min</th>\n",
       "      <th>25%</th>\n",
       "      <th>50%</th>\n",
       "      <th>75%</th>\n",
       "      <th>max</th>\n",
       "    </tr>\n",
       "  </thead>\n",
       "  <tbody>\n",
       "    <tr>\n",
       "      <th>pelvic_incidence</th>\n",
       "      <td>310.0</td>\n",
       "      <td>NaN</td>\n",
       "      <td>NaN</td>\n",
       "      <td>NaN</td>\n",
       "      <td>60.496</td>\n",
       "      <td>17.236</td>\n",
       "      <td>26.15</td>\n",
       "      <td>46.432</td>\n",
       "      <td>58.69</td>\n",
       "      <td>72.88</td>\n",
       "      <td>129.83</td>\n",
       "    </tr>\n",
       "    <tr>\n",
       "      <th>pelvic_tilt</th>\n",
       "      <td>310.0</td>\n",
       "      <td>NaN</td>\n",
       "      <td>NaN</td>\n",
       "      <td>NaN</td>\n",
       "      <td>17.543</td>\n",
       "      <td>10.008</td>\n",
       "      <td>-6.55</td>\n",
       "      <td>10.668</td>\n",
       "      <td>16.36</td>\n",
       "      <td>22.12</td>\n",
       "      <td>49.43</td>\n",
       "    </tr>\n",
       "    <tr>\n",
       "      <th>lumbar_lordosis_angle</th>\n",
       "      <td>310.0</td>\n",
       "      <td>NaN</td>\n",
       "      <td>NaN</td>\n",
       "      <td>NaN</td>\n",
       "      <td>51.931</td>\n",
       "      <td>18.554</td>\n",
       "      <td>14.0</td>\n",
       "      <td>37.0</td>\n",
       "      <td>49.565</td>\n",
       "      <td>63.0</td>\n",
       "      <td>125.74</td>\n",
       "    </tr>\n",
       "    <tr>\n",
       "      <th>sacral_slope</th>\n",
       "      <td>310.0</td>\n",
       "      <td>NaN</td>\n",
       "      <td>NaN</td>\n",
       "      <td>NaN</td>\n",
       "      <td>42.954</td>\n",
       "      <td>13.423</td>\n",
       "      <td>13.37</td>\n",
       "      <td>33.348</td>\n",
       "      <td>42.405</td>\n",
       "      <td>52.693</td>\n",
       "      <td>121.43</td>\n",
       "    </tr>\n",
       "    <tr>\n",
       "      <th>pelvic_radius</th>\n",
       "      <td>310.0</td>\n",
       "      <td>NaN</td>\n",
       "      <td>NaN</td>\n",
       "      <td>NaN</td>\n",
       "      <td>117.921</td>\n",
       "      <td>13.318</td>\n",
       "      <td>70.08</td>\n",
       "      <td>110.71</td>\n",
       "      <td>118.265</td>\n",
       "      <td>125.468</td>\n",
       "      <td>163.07</td>\n",
       "    </tr>\n",
       "    <tr>\n",
       "      <th>degree_spondylolisthesis</th>\n",
       "      <td>310.0</td>\n",
       "      <td>NaN</td>\n",
       "      <td>NaN</td>\n",
       "      <td>NaN</td>\n",
       "      <td>26.297</td>\n",
       "      <td>37.559</td>\n",
       "      <td>-11.06</td>\n",
       "      <td>1.6</td>\n",
       "      <td>11.765</td>\n",
       "      <td>41.285</td>\n",
       "      <td>418.54</td>\n",
       "    </tr>\n",
       "    <tr>\n",
       "      <th>class</th>\n",
       "      <td>310</td>\n",
       "      <td>3</td>\n",
       "      <td>SL</td>\n",
       "      <td>150</td>\n",
       "      <td>NaN</td>\n",
       "      <td>NaN</td>\n",
       "      <td>NaN</td>\n",
       "      <td>NaN</td>\n",
       "      <td>NaN</td>\n",
       "      <td>NaN</td>\n",
       "      <td>NaN</td>\n",
       "    </tr>\n",
       "  </tbody>\n",
       "</table>\n",
       "</div>"
      ],
      "text/plain": [
       "                          count unique  top freq     mean     std    min  \\\n",
       "pelvic_incidence          310.0    NaN  NaN  NaN   60.496  17.236  26.15   \n",
       "pelvic_tilt               310.0    NaN  NaN  NaN   17.543  10.008  -6.55   \n",
       "lumbar_lordosis_angle     310.0    NaN  NaN  NaN   51.931  18.554   14.0   \n",
       "sacral_slope              310.0    NaN  NaN  NaN   42.954  13.423  13.37   \n",
       "pelvic_radius             310.0    NaN  NaN  NaN  117.921  13.318  70.08   \n",
       "degree_spondylolisthesis  310.0    NaN  NaN  NaN   26.297  37.559 -11.06   \n",
       "class                       310      3   SL  150      NaN     NaN    NaN   \n",
       "\n",
       "                             25%      50%      75%     max  \n",
       "pelvic_incidence          46.432    58.69    72.88  129.83  \n",
       "pelvic_tilt               10.668    16.36    22.12   49.43  \n",
       "lumbar_lordosis_angle       37.0   49.565     63.0  125.74  \n",
       "sacral_slope              33.348   42.405   52.693  121.43  \n",
       "pelvic_radius             110.71  118.265  125.468  163.07  \n",
       "degree_spondylolisthesis     1.6   11.765   41.285  418.54  \n",
       "class                        NaN      NaN      NaN     NaN  "
      ]
     },
     "execution_count": 110,
     "metadata": {},
     "output_type": "execute_result"
    }
   ],
   "source": [
    "df.describe(include='all').T"
   ]
  },
  {
   "cell_type": "code",
   "execution_count": 111,
   "metadata": {},
   "outputs": [
    {
     "name": "stdout",
     "output_type": "stream",
     "text": [
      "     pelvic_incidence  pelvic_tilt  lumbar_lordosis_angle  sacral_slope  pelvic_radius  degree_spondylolisthesis class\n",
      "0               63.03        22.55                  39.61         40.48          98.67                     -0.25    DH\n",
      "1               39.06        10.06                  25.02         29.00         114.41                      4.56    DH\n",
      "2               68.83        22.22                  50.09         46.61         105.99                     -3.53    DH\n",
      "3               69.30        24.65                  44.31         44.64         101.87                     11.21    DH\n",
      "4               49.71         9.65                  28.32         40.06         108.17                      7.92    DH\n",
      "5               40.25        13.92                  25.12         26.33         130.33                      2.23    DH\n",
      "6               53.43        15.86                  37.17         37.57         120.57                      5.99    DH\n",
      "7               45.37        10.76                  29.04         34.61         117.27                    -10.68    DH\n",
      "8               43.79        13.53                  42.69         30.26         125.00                     13.29    DH\n",
      "9               36.69         5.01                  41.95         31.68          84.24                      0.66    DH\n",
      "10              49.71        13.04                  31.33         36.67         108.65                     -7.83    DH\n",
      "11              31.23        17.72                  15.50         13.52         120.06                      0.50    DH\n",
      "12              48.92        19.96                  40.26         28.95         119.32                      8.03    DH\n",
      "13              53.57        20.46                  33.10         33.11         110.97                      7.04    DH\n",
      "14              57.30        24.19                  47.00         33.11         116.81                      5.77    DH\n",
      "15              44.32        12.54                  36.10         31.78         124.12                      5.42    DH\n",
      "16              63.83        20.36                  54.55         43.47         112.31                     -0.62    DH\n",
      "17              31.28         3.14                  32.56         28.13         129.01                      3.62    DH\n",
      "18              38.70        13.44                  31.00         25.25         123.16                      1.43    DH\n",
      "19              41.73        12.25                  30.12         29.48         116.59                     -1.24    DH\n",
      "20              43.92        14.18                  37.83         29.74         134.46                      6.45    DH\n",
      "21              54.92        21.06                  42.20         33.86         125.21                      2.43    DH\n",
      "22              63.07        24.41                  54.00         38.66         106.42                     15.78    DH\n",
      "23              45.54        13.07                  30.30         32.47         117.98                     -4.99    DH\n",
      "24              36.13        22.76                  29.00         13.37         115.58                     -3.24    DH\n",
      "25              54.12        26.65                  35.33         27.47         121.45                      1.57    DH\n",
      "26              26.15        10.76                  14.00         15.39         125.20                    -10.09    DH\n",
      "27              43.58        16.51                  47.00         27.07         109.27                      8.99    DH\n",
      "28              44.55        21.93                  26.79         22.62         111.07                      2.65    DH\n",
      "29              66.88        24.89                  49.28         41.99         113.48                     -2.01    DH\n",
      "30              50.82        15.40                  42.53         35.42         112.19                     10.87    DH\n",
      "31              46.39        11.08                  32.14         35.31          98.77                      6.39    DH\n",
      "32              44.94        17.44                  27.78         27.49         117.98                      5.57    DH\n",
      "33              38.66        12.99                  40.00         25.68         124.91                      2.70    DH\n",
      "34              59.60        32.00                  46.56         27.60         119.33                      1.47    DH\n",
      "35              31.48         7.83                  24.28         23.66         113.83                      4.39    DH\n",
      "36              32.09         6.99                  36.00         25.10         132.26                      6.41    DH\n",
      "37              35.70        19.44                  20.70         16.26         137.54                     -0.26    DH\n",
      "38              55.84        28.85                  47.69         27.00         123.31                      2.81    DH\n",
      "39              52.42        19.01                  35.87         33.41         116.56                      1.69    DH\n",
      "40              35.49        11.70                  15.59         23.79         106.94                     -3.46    DH\n",
      "41              46.44         8.40                  29.04         38.05         115.48                      2.05    DH\n",
      "42              53.85        19.23                  32.78         34.62         121.67                      5.33    DH\n",
      "43              66.29        26.33                  47.50         39.96         121.22                     -0.80    DH\n",
      "44              56.03        16.30                  62.28         39.73         114.02                     -2.33    DH\n",
      "45              50.91        23.02                  47.00         27.90         117.42                     -2.53    DH\n",
      "46              48.33        22.23                  36.18         26.10         117.38                      6.48    DH\n",
      "47              41.35        16.58                  30.71         24.78         113.27                     -4.50    DH\n",
      "48              40.56        17.98                  34.00         22.58         121.05                     -1.54    DH\n",
      "49              41.77        17.90                  20.03         23.87         118.36                      2.06    DH\n",
      "50              55.29        20.44                  34.00         34.85         115.88                      3.56    DH\n",
      "51              74.43        41.56                  27.70         32.88         107.95                      5.00    DH\n",
      "52              50.21        29.76                  36.10         20.45         128.29                      5.74    DH\n",
      "53              30.15        11.92                  34.00         18.23         112.68                     11.46    DH\n",
      "54              41.17        17.32                  33.47         23.85         116.38                     -9.57    DH\n",
      "55              47.66        13.28                  36.68         34.38          98.25                      6.27    DH\n",
      "56              43.35         7.47                  28.07         35.88         112.78                      5.75    DH\n",
      "57              46.86        15.35                  38.00         31.50         116.25                      1.66    DH\n",
      "58              43.20        19.66                  35.00         23.54         124.85                     -2.92    DH\n",
      "59              48.11        14.93                  35.56         33.18         124.06                      7.95    DH\n",
      "60              74.38        32.05                  78.77         42.32         143.56                     56.13    SL\n",
      "61              89.68        32.70                  83.13         56.98         129.96                     92.03    SL\n",
      "62              44.53         9.43                  52.00         35.10         134.71                     29.11    SL\n",
      "63              77.69        21.38                  64.43         56.31         114.82                     26.93    SL\n",
      "64              76.15        21.94                  82.96         54.21         123.93                     10.43    SL\n",
      "65              83.93        41.29                  62.00         42.65         115.01                     26.59    SL\n",
      "66              78.49        22.18                  60.00         56.31         118.53                     27.38    SL\n",
      "67              75.65        19.34                  64.15         56.31          95.90                     69.55    SL\n",
      "68              72.08        18.95                  51.00         53.13         114.21                      1.01    SL\n",
      "69              58.60        -0.26                  51.50         58.86         102.04                     28.06    SL\n",
      "70              72.56        17.39                  52.00         55.18         119.19                     32.11    SL\n",
      "71              86.90        32.93                  47.79         53.97         135.08                    101.72    SL\n",
      "72              84.97        33.02                  60.86         51.95         125.66                     74.33    SL\n",
      "73              55.51        20.10                  44.00         35.42         122.65                     34.55    SL\n",
      "74              72.22        23.08                  91.00         49.14         137.74                     56.80    SL\n",
      "75              70.22        39.82                  68.12         30.40         148.53                    145.38    SL\n",
      "76              86.75        36.04                  69.22         50.71         139.41                    110.86    SL\n",
      "77              58.78         7.67                  53.34         51.12          98.50                     51.58    SL\n",
      "78              67.41        17.44                  60.14         49.97         111.12                     33.16    SL\n",
      "79              47.74        12.09                  39.00         35.66         117.51                     21.68    SL\n",
      "80              77.11        30.47                  69.48         46.64         112.15                     70.76    SL\n",
      "81              74.01        21.12                  57.38         52.88         120.21                     74.56    SL\n",
      "82              88.62        29.09                  47.56         59.53         121.76                     51.81    SL\n",
      "83              81.10        24.79                  77.89         56.31         151.84                     65.21    SL\n",
      "84              76.33        42.40                  57.20         33.93         124.27                     50.13    SL\n",
      "85              45.44         9.91                  45.00         35.54         163.07                     20.32    SL\n",
      "86              59.79        17.88                  59.21         41.91         119.32                     22.12    SL\n",
      "87              44.91        10.22                  44.63         34.70         130.08                     37.36    SL\n",
      "88              56.61        16.80                  42.00         39.81         127.29                     24.02    SL\n",
      "89              71.19        23.90                  43.70         47.29         119.86                     27.28    SL\n",
      "90              81.66        28.75                  58.23         52.91         114.77                     30.61    SL\n",
      "91              70.95        20.16                  62.86         50.79         116.18                     32.52    SL\n",
      "92              85.35        15.84                  71.67         69.51         124.42                     76.02    SL\n",
      "93              58.10        14.84                  79.65         43.26         113.59                     50.24    SL\n",
      "94              94.17        15.38                  67.71         78.79         114.89                     53.26    SL\n",
      "95              57.52        33.65                  50.91         23.88         140.98                    148.75    SL\n",
      "96              96.66        19.46                  90.21         77.20         120.67                     64.08    SL\n",
      "97              74.72        19.76                  82.74         54.96         109.36                     33.31    SL\n",
      "98              77.66        22.43                  93.89         55.22         123.06                     61.21    SL\n",
      "99              58.52        13.92                  41.47         44.60         115.51                     30.39    SL\n",
      "100             84.59        30.36                  65.48         54.22         108.01                     25.12    SL\n",
      "101             79.94        18.77                  63.31         61.16         114.79                     38.54    SL\n",
      "102             70.40        13.47                  61.20         56.93         102.34                     25.54    SL\n",
      "103             49.78         6.47                  53.00         43.32         110.86                     25.34    SL\n",
      "104             77.41        29.40                  63.23         48.01         118.45                     93.56    SL\n",
      "105             65.01        27.60                  50.95         37.41         116.58                      7.02    SL\n",
      "106             65.01         9.84                  57.74         55.18          94.74                     49.70    SL\n",
      "107             78.43        33.43                  76.28         45.00         138.55                     77.16    SL\n",
      "108             63.17         6.33                  63.00         56.84         110.64                     42.61    SL\n",
      "109             68.61        15.08                  63.01         53.53         123.43                     39.50    SL\n",
      "110             63.90        13.71                  62.12         50.19         114.13                     41.42    SL\n",
      "111             85.00        29.61                  83.35         55.39         126.91                     71.32    SL\n",
      "112             42.02        -6.55                  67.90         48.58         111.59                     27.34    SL\n",
      "113             69.76        19.28                  48.50         50.48          96.49                     51.17    SL\n",
      "114             80.99        36.84                  86.96         44.14         141.09                     85.87    SL\n",
      "115            129.83         8.40                  48.38        121.43         107.69                    418.54    SL\n",
      "116             70.48        12.49                  62.42         57.99         114.19                     56.90    SL\n",
      "117             86.04        38.75                  47.87         47.29         122.09                     61.99    SL\n",
      "118             65.54        24.16                  45.78         41.38         136.44                     16.38    SL\n",
      "119             60.75        15.75                  43.20         45.00         113.05                     31.69    SL\n",
      "120             54.74        12.10                  41.00         42.65         117.64                     40.38    SL\n",
      "121             83.88        23.08                  87.14         60.80         124.65                     80.56    SL\n",
      "122             80.07        48.07                  52.40         32.01         110.71                     67.73    SL\n",
      "123             65.67        10.54                  56.49         55.12         109.16                     53.93    SL\n",
      "124             74.72        14.32                  32.50         60.40         107.18                     37.02    SL\n",
      "125             48.06         5.69                  57.06         42.37          95.44                     32.84    SL\n",
      "126             70.68        21.70                  59.18         48.97         103.01                     27.81    SL\n",
      "127             80.43        17.00                  66.54         63.43         116.44                     57.78    SL\n",
      "128             90.51        28.27                  69.81         62.24         100.89                     58.82    SL\n",
      "129             77.24        16.74                  49.78         60.50         110.69                     39.79    SL\n",
      "130             50.07         9.12                  32.17         40.95          99.71                     26.77    SL\n",
      "131             69.78        13.78                  58.00         56.00         118.93                     17.91    SL\n",
      "132             69.63        21.12                  52.77         48.50         116.80                     54.82    SL\n",
      "133             81.75        20.12                  70.56         61.63         119.43                     55.51    SL\n",
      "134             52.20        17.21                  78.09         34.99         136.97                     54.94    SL\n",
      "135             77.12        30.35                  77.48         46.77         110.61                     82.09    SL\n",
      "136             88.02        39.84                  81.77         48.18         116.60                     56.77    SL\n",
      "137             83.40        34.31                  78.42         49.09         110.47                     49.67    SL\n",
      "138             72.05        24.70                  79.87         47.35         107.17                     56.43    SL\n",
      "139             85.10        21.07                  91.73         64.03         109.06                     38.03    SL\n",
      "140             69.56        15.40                  74.44         54.16         105.07                     29.70    SL\n",
      "141             89.50        48.90                  72.00         40.60         134.63                    118.35    SL\n",
      "142             85.29        18.28                 100.74         67.01         110.66                     58.88    SL\n",
      "143             60.63        20.60                  64.54         40.03         117.23                    104.86    SL\n",
      "144             60.04        14.31                  58.04         45.73         105.13                     30.41    SL\n",
      "145             85.64        42.69                  78.75         42.95         105.14                     42.89    SL\n",
      "146             85.58        30.46                  78.23         55.12         114.87                     68.38    SL\n",
      "147             55.08        -3.76                  56.00         58.84         109.92                     31.77    SL\n",
      "148             65.76         9.83                  50.82         55.92         104.39                     39.31    SL\n",
      "149             79.25        23.94                  40.80         55.30          98.62                     36.71    SL\n",
      "150             81.11        20.69                  60.69         60.42          94.02                     40.51    SL\n",
      "151             48.03         3.97                  58.34         44.06         125.35                     35.00    SL\n",
      "152             63.40        14.12                  48.14         49.29         111.92                     31.78    SL\n",
      "153             57.29        15.15                  64.00         42.14         116.74                     30.34    SL\n",
      "154             41.19         5.79                  42.87         35.39         103.35                     27.66    SL\n",
      "155             66.80        14.55                  72.08         52.25          82.46                     41.69    SL\n",
      "156             79.48        26.73                  70.65         52.74         118.59                     61.70    SL\n",
      "157             44.22         1.51                  46.11         42.71         108.63                     42.81    SL\n",
      "158             57.04         0.35                  49.20         56.69         103.05                     52.17    SL\n",
      "159             64.27        12.51                  68.70         51.77          95.25                     39.41    SL\n",
      "160             92.03        35.39                  77.42         56.63         115.72                     58.06    SL\n",
      "161             67.26         7.19                  51.70         60.07          97.80                     42.14    SL\n",
      "162            118.14        38.45                  50.84         79.70          81.02                     74.04    SL\n",
      "163            115.92        37.52                  76.80         78.41         104.70                     81.20    SL\n",
      "164             53.94         9.31                  43.10         44.64         124.40                     25.08    SL\n",
      "165             83.70        20.27                  77.11         63.43         125.48                     69.28    SL\n",
      "166             56.99         6.87                  57.01         50.12         109.98                     36.81    SL\n",
      "167             72.34        16.42                  59.87         55.92          70.08                     12.07    SL\n",
      "168             95.38        24.82                  95.16         70.56          89.31                     57.66    SL\n",
      "169             44.25         1.10                  38.00         43.15          98.27                     23.91    SL\n",
      "170             64.81        15.17                  58.84         49.64         111.68                     21.41    SL\n",
      "171             78.40        14.04                  79.69         64.36         104.73                     12.39    SL\n",
      "172             56.67        13.46                  43.77         43.21          93.69                     21.11    SL\n",
      "173             50.83         9.06                  56.30         41.76          79.00                     23.04    SL\n",
      "174             61.41        25.38                  39.10         36.03         103.40                     21.84    SL\n",
      "175             56.56         8.96                  52.58         47.60          98.78                     50.70    SL\n",
      "176             67.03        13.28                  66.15         53.75         100.72                     33.99    SL\n",
      "177             80.82        19.24                  61.64         61.58          89.47                     44.17    SL\n",
      "178             80.65        26.34                  60.90         54.31         120.10                     52.47    SL\n",
      "179             68.72        49.43                  68.06         19.29         125.02                     54.69    SL\n",
      "180             37.90         4.48                  24.71         33.42         157.85                     33.61    SL\n",
      "181             64.62        15.23                  67.63         49.40          90.30                     31.33    SL\n",
      "182             75.44        31.54                  89.60         43.90         106.83                     54.97    SL\n",
      "183             71.00        37.52                  84.54         33.49         125.16                     67.77    SL\n",
      "184             81.06        20.80                  91.78         60.26         125.43                     38.18    SL\n",
      "185             91.47        24.51                  84.62         66.96         117.31                     52.62    SL\n",
      "186             81.08        21.26                  78.77         59.83          90.07                     49.16    SL\n",
      "187             60.42         5.27                  59.81         55.15         109.03                     30.27    SL\n",
      "188             85.68        38.65                  82.68         47.03         120.84                     61.96    SL\n",
      "189             82.41        29.28                  77.05         53.13         117.04                     62.77    SL\n",
      "190             43.72         9.81                  52.00         33.91          88.43                     40.88    SL\n",
      "191             86.47        40.30                  61.14         46.17          97.40                     55.75    SL\n",
      "192             74.47        33.28                  66.94         41.19         146.47                    124.98    SL\n",
      "193             70.25        10.34                  76.37         59.91         119.24                     32.67    SL\n",
      "194             72.64        18.93                  68.00         53.71         116.96                     25.38    SL\n",
      "195             71.24         5.27                  86.00         65.97         110.70                     38.26    SL\n",
      "196             63.77        12.76                  65.36         51.01          89.82                     56.00    SL\n",
      "197             58.83        37.58                 125.74         21.25         135.63                    117.31    SL\n",
      "198             74.85        13.91                  62.69         60.95         115.21                     33.17    SL\n",
      "199             75.30        16.67                  61.30         58.63         118.88                     31.58    SL\n",
      "200             63.36        20.02                  67.50         43.34         131.00                     37.56    SL\n",
      "201             67.51        33.28                  96.28         34.24         145.60                     88.30    SL\n",
      "202             76.31        41.93                  93.28         34.38         132.27                    101.22    SL\n",
      "203             73.64         9.71                  63.00         63.92          98.73                     26.98    SL\n",
      "204             56.54        14.38                  44.99         42.16         101.72                     25.77    SL\n",
      "205             80.11        33.94                  85.10         46.17         125.59                    100.29    SL\n",
      "206             95.48        46.55                  59.00         48.93          96.68                     77.28    SL\n",
      "207             74.09        18.82                  76.03         55.27         128.41                     73.39    SL\n",
      "208             87.68        20.37                  93.82         67.31         120.94                     76.73    SL\n",
      "209             48.26        16.42                  36.33         31.84          94.88                     28.34    SL\n",
      "210             38.51        16.96                  35.11         21.54         127.63                      7.99    NO\n",
      "211             54.92        18.97                  51.60         35.95         125.85                      2.00    NO\n",
      "212             44.36         8.95                  46.90         35.42         129.22                      4.99    NO\n",
      "213             48.32        17.45                  48.00         30.87         128.98                     -0.91    NO\n",
      "214             45.70        10.66                  42.58         35.04         130.18                     -3.39    NO\n",
      "215             30.74        13.35                  35.90         17.39         142.41                     -2.01    NO\n",
      "216             50.91         6.68                  30.90         44.24         118.15                     -1.06    NO\n",
      "217             38.13         6.56                  50.45         31.57         132.11                      6.34    NO\n",
      "218             51.62        15.97                  35.00         35.66         129.39                      1.01    NO\n",
      "219             64.31        26.33                  50.96         37.98         106.18                      3.12    NO\n",
      "220             44.49        21.79                  31.47         22.70         113.78                     -0.28    NO\n",
      "221             54.95         5.87                  53.00         49.09         126.97                     -0.63    NO\n",
      "222             56.10        13.11                  62.64         43.00         116.23                     31.17    NO\n",
      "223             69.40        18.90                  75.97         50.50         103.58                     -0.44    NO\n",
      "224             89.83        22.64                  90.56         67.20         100.50                      3.04    NO\n",
      "225             59.73         7.72                  55.34         52.00         125.17                      3.24    NO\n",
      "226             63.96        16.06                  63.12         47.90         142.36                      6.30    NO\n",
      "227             61.54        19.68                  52.89         41.86         118.69                      4.82    NO\n",
      "228             38.05         8.30                  26.24         29.74         123.80                      3.89    NO\n",
      "229             43.44        10.10                  36.03         33.34         137.44                     -3.11    NO\n",
      "230             65.61        23.14                  62.58         42.47         124.13                     -4.08    NO\n",
      "231             53.91        12.94                  39.00         40.97         118.19                      5.07    NO\n",
      "232             43.12        13.82                  40.35         29.30         128.52                      0.97    NO\n",
      "233             40.68         9.15                  31.02         31.53         139.12                     -2.51    NO\n",
      "234             37.73         9.39                  42.00         28.35         135.74                     13.68    NO\n",
      "235             63.93        19.97                  40.18         43.96         113.07                    -11.06    NO\n",
      "236             61.82        13.60                  64.00         48.22         121.78                      1.30    NO\n",
      "237             62.14        13.96                  58.00         48.18         133.28                      4.96    NO\n",
      "238             69.00        13.29                  55.57         55.71         126.61                     10.83    NO\n",
      "239             56.45        19.44                  43.58         37.00         139.19                     -1.86    NO\n",
      "240             41.65         8.84                  36.03         32.81         116.56                     -6.05    NO\n",
      "241             51.53        13.52                  35.00         38.01         126.72                     13.93    NO\n",
      "242             39.09         5.54                  26.93         33.55         131.58                     -0.76    NO\n",
      "243             34.65         7.51                  43.00         27.14         123.99                     -4.08    NO\n",
      "244             63.03        27.34                  51.61         35.69         114.51                      7.44    NO\n",
      "245             47.81        10.69                  54.00         37.12         125.39                     -0.40    NO\n",
      "246             46.64        15.85                  40.00         30.78         119.38                      9.06    NO\n",
      "247             49.83        16.74                  28.00         33.09         121.44                      1.91    NO\n",
      "248             47.32         8.57                  35.56         38.75         120.58                      1.63    NO\n",
      "249             50.75        20.24                  37.00         30.52         122.34                      2.29    NO\n",
      "250             36.16        -0.81                  33.63         36.97         135.94                     -2.09    NO\n",
      "251             40.75         1.84                  50.00         38.91         139.25                      0.67    NO\n",
      "252             42.92        -5.85                  58.00         48.76         121.61                     -3.36    NO\n",
      "253             63.79        21.35                  66.00         42.45         119.55                     12.38    NO\n",
      "254             72.96        19.58                  61.01         53.38         111.23                      0.81    NO\n",
      "255             67.54        14.66                  58.00         52.88         123.63                     25.97    NO\n",
      "256             54.75         9.75                  48.00         45.00         123.04                      8.24    NO\n",
      "257             50.16        -2.97                  42.00         53.13         131.80                     -8.29    NO\n",
      "258             40.35        10.19                  37.97         30.15         128.01                      0.46    NO\n",
      "259             63.62        16.93                  49.35         46.68         117.09                     -0.36    NO\n",
      "260             54.14        11.94                  43.00         42.21         122.21                      0.15    NO\n",
      "261             74.98        14.92                  53.73         60.05         105.65                      1.59    NO\n",
      "262             42.52        14.38                  25.32         28.14         128.91                      0.76    NO\n",
      "263             33.79         3.68                  25.50         30.11         128.33                     -1.78    NO\n",
      "264             54.50         6.82                  47.00         47.68         111.79                     -4.41    NO\n",
      "265             48.17         9.59                  39.71         38.58         135.62                      5.36    NO\n",
      "266             46.37        10.22                  42.70         36.16         121.25                     -0.54    NO\n",
      "267             52.86         9.41                  46.99         43.45         123.09                      1.86    NO\n",
      "268             57.15        16.49                  42.84         40.66         113.81                      5.02    NO\n",
      "269             37.14        16.48                  24.00         20.66         125.01                      7.37    NO\n",
      "270             51.31         8.88                  57.00         42.44         126.47                     -2.14    NO\n",
      "271             42.52        16.54                  42.00         25.97         120.63                      7.88    NO\n",
      "272             39.36         7.01                  37.00         32.35         117.82                      1.90    NO\n",
      "273             35.88         1.11                  43.46         34.77         126.92                     -1.63    NO\n",
      "274             43.19         9.98                  28.94         33.22         123.47                      1.74    NO\n",
      "275             67.29        16.72                  51.00         50.57         137.59                      4.96    NO\n",
      "276             51.33        13.63                  33.26         37.69         131.31                      1.79    NO\n",
      "277             65.76        13.21                  44.00         52.55         129.39                     -1.98    NO\n",
      "278             40.41        -1.33                  30.98         41.74         119.34                     -6.17    NO\n",
      "279             48.80        18.02                  52.00         30.78         139.15                     10.44    NO\n",
      "280             50.09        13.43                  34.46         36.66         119.13                      3.09    NO\n",
      "281             64.26        14.50                  43.90         49.76         115.39                      5.95    NO\n",
      "282             53.68        13.45                  41.58         40.24         113.91                      2.74    NO\n",
      "283             49.00        13.11                  51.87         35.88         126.40                      0.54    NO\n",
      "284             59.17        14.56                  43.20         44.60         121.04                      2.83    NO\n",
      "285             67.80        16.55                  43.26         51.25         119.69                      4.87    NO\n",
      "286             61.73        17.11                  46.90         44.62         120.92                      3.09    NO\n",
      "287             33.04        -0.32                  19.07         33.37         120.39                      9.35    NO\n",
      "288             74.57        15.72                  58.62         58.84         105.42                      0.60    NO\n",
      "289             44.43        14.17                  32.24         30.26         131.72                     -3.60    NO\n",
      "290             36.42        13.88                  20.24         22.54         126.08                      0.18    NO\n",
      "291             51.08        14.21                  35.95         36.87         115.80                      6.91    NO\n",
      "292             34.76         2.63                  29.50         32.12         127.14                     -0.46    NO\n",
      "293             48.90         5.59                  55.50         43.32         137.11                     19.85    NO\n",
      "294             46.24        10.06                  37.00         36.17         128.06                     -5.10    NO\n",
      "295             46.43         6.62                  48.10         39.81         130.35                      2.45    NO\n",
      "296             39.66        16.21                  36.67         23.45         131.92                     -4.97    NO\n",
      "297             45.58        18.76                  33.77         26.82         116.80                      3.13    NO\n",
      "298             66.51        20.90                  31.73         45.61         128.90                      1.52    NO\n",
      "299             82.91        29.89                  58.25         53.01         110.71                      6.08    NO\n",
      "300             50.68         6.46                  35.00         44.22         116.59                     -0.21    NO\n",
      "301             89.01        26.08                  69.02         62.94         111.48                      6.06    NO\n",
      "302             54.60        21.49                  29.36         33.11         118.34                     -1.47    NO\n",
      "303             34.38         2.06                  32.39         32.32         128.30                     -3.37    NO\n",
      "304             45.08        12.31                  44.58         32.77         147.89                     -8.94    NO\n",
      "305             47.90        13.62                  36.00         34.29         117.45                     -4.25    NO\n",
      "306             53.94        20.72                  29.22         33.22         114.37                     -0.42    NO\n",
      "307             61.45        22.69                  46.17         38.75         125.67                     -2.71    NO\n",
      "308             45.25         8.69                  41.58         36.56         118.55                      0.21    NO\n",
      "309             33.84         5.07                  36.64         28.77         123.95                     -0.20    NO\n"
     ]
    }
   ],
   "source": [
    "print(df.to_string())"
   ]
  },
  {
   "attachments": {},
   "cell_type": "markdown",
   "metadata": {},
   "source": [
    "Haciendo una pequeña exploración superficial de los datos podemos observar que el grado degree_spondylolisthesis esta fuertemente relacionado con la classe SL, todas las personas con degree > 20 tienen SL. Aún asi, en las regiones por debajo de 20 encontramos personas dentro de las tres classes, asi que creo que es combeniente  dejar este atributo aunque nos este dando si es SL en algunos de los casos"
   ]
  },
  {
   "cell_type": "code",
   "execution_count": 112,
   "metadata": {},
   "outputs": [
    {
     "data": {
      "image/png": "[encoded data removed]",
      "text/plain": [
       "<Figure size 1000x800 with 2 Axes>"
      ]
     },
     "metadata": {},
     "output_type": "display_data"
    }
   ],
   "source": [
    "corr = df.corr()\n",
    "mask = np.triu(np.ones_like(corr, dtype=bool))\n",
    "plt.subplots(figsize=(10, 8))\n",
    "sns.heatmap(corr, mask=mask, cmap='seismic',  center=0, square=True, linewidths=.5, cbar_kws={\"shrink\": .5});"
   ]
  },
  {
   "attachments": {},
   "cell_type": "markdown",
   "metadata": {},
   "source": [
    "Vemos que menos el radio de la pelvis, que esta inversamente relacionado al resto, los otros parametros parecen tener una correlación alta. Podemos deducir que una columna no solo se desvia de una sola forma, cuando lo hace afecta a todos los parametros, también podemos decir que a menor radio de la pelvis, menores complicaciones."
   ]
  },
  {
   "cell_type": "code",
   "execution_count": 113,
   "metadata": {},
   "outputs": [
    {
     "name": "stdout",
     "output_type": "stream",
     "text": [
      "['DH' 'SL' 'NO']\n"
     ]
    }
   ],
   "source": [
    "print(df['class'].unique())\n",
    "x = df['class']"
   ]
  },
  {
   "cell_type": "code",
   "execution_count": 114,
   "metadata": {},
   "outputs": [
    {
     "data": {
      "text/plain": [
       "SL    150\n",
       "NO    100\n",
       "DH     60\n",
       "Name: class, dtype: int64"
      ]
     },
     "execution_count": 114,
     "metadata": {},
     "output_type": "execute_result"
    }
   ],
   "source": [
    "df['class'].value_counts()"
   ]
  },
  {
   "attachments": {},
   "cell_type": "markdown",
   "metadata": {},
   "source": [
    "Vemos que como nos dice el enunciado la cantidad de personas en cada classe no esta balanceada, por lo que si no lo tenemos en cuenta el predictor puede tener un bias hacia las classes con mas objetos"
   ]
  },
  {
   "cell_type": "code",
   "execution_count": 115,
   "metadata": {},
   "outputs": [],
   "source": [
    "classes = np.zeros(shape=x.size,dtype=int) ## NO es classe 0\n",
    "for i in range(0,classes.size):\n",
    "    if(x[i]=='DH'):classes[i] = 1; ## hernia discal es classe 1\n",
    "    elif(x[i]=='SL'):classes[i] = 2; ## Spondylolisthesis es classe 2\n",
    "labels = ['NO','DH','SL']\n"
   ]
  },
  {
   "cell_type": "code",
   "execution_count": 116,
   "metadata": {},
   "outputs": [],
   "source": [
    "data = df.drop(columns=['class'])\n",
    "#data = df.drop(columns=['class', 'degree_spondylolisthesis'])"
   ]
  },
  {
   "cell_type": "code",
   "execution_count": 117,
   "metadata": {},
   "outputs": [],
   "source": [
    "X_train, X_test, y_train, y_test = train_test_split(data, classes, test_size=0.3, random_state=42)"
   ]
  },
  {
   "cell_type": "code",
   "execution_count": 118,
   "metadata": {},
   "outputs": [],
   "source": [
    "scaler = MinMaxScaler();\n",
    "X_train = scaler.fit_transform(X_train);\n",
    "X_test = scaler.transform(X_test);"
   ]
  },
  {
   "cell_type": "code",
   "execution_count": 119,
   "metadata": {},
   "outputs": [
    {
     "name": "stdout",
     "output_type": "stream",
     "text": [
      "non fitted cross_val of lreg: 0.7419913419913421\n"
     ]
    }
   ],
   "source": [
    "lr = LogisticRegression();\n",
    "print('non fitted cross_val of lreg: ' + str(np.mean(cross_val_score(lr,X_train,y_train,cv=10))));\n"
   ]
  },
  {
   "attachments": {},
   "cell_type": "markdown",
   "metadata": {},
   "source": [
    "Obtenemos una puntuacion bastante alta sin ajustar los parametros, seguramente debido al degree_spondylolisthesis, (sin este atributo nos sigue dando un resultado bastante razonable de ~0.70)"
   ]
  },
  {
   "cell_type": "code",
   "execution_count": 120,
   "metadata": {},
   "outputs": [
    {
     "data": {
      "text/html": [
       "<table border=\"1\" class=\"dataframe\">\n",
       "  <thead>\n",
       "    <tr style=\"text-align: right;\">\n",
       "      <th></th>\n",
       "      <th>params</th>\n",
       "      <th>mean_test_score</th>\n",
       "      <th>rank_test_score</th>\n",
       "    </tr>\n",
       "  </thead>\n",
       "  <tbody>\n",
       "    <tr>\n",
       "      <th>10</th>\n",
       "      <td>{'C': 345.1437393358564, 'penalty': 'l1'}</td>\n",
       "      <td>0.880</td>\n",
       "      <td>1</td>\n",
       "    </tr>\n",
       "    <tr>\n",
       "      <th>13</th>\n",
       "      <td>{'C': 129.41958414499862, 'penalty': 'l1'}</td>\n",
       "      <td>0.880</td>\n",
       "      <td>1</td>\n",
       "    </tr>\n",
       "    <tr>\n",
       "      <th>6</th>\n",
       "      <td>{'C': 633.8697112569276, 'penalty': 'l2'}</td>\n",
       "      <td>0.875</td>\n",
       "      <td>3</td>\n",
       "    </tr>\n",
       "    <tr>\n",
       "      <th>11</th>\n",
       "      <td>{'C': 345.1437393358564, 'penalty': 'l2'}</td>\n",
       "      <td>0.875</td>\n",
       "      <td>3</td>\n",
       "    </tr>\n",
       "    <tr>\n",
       "      <th>5</th>\n",
       "      <td>{'C': 106.6596121230259, 'penalty': 'l2'}</td>\n",
       "      <td>0.862</td>\n",
       "      <td>5</td>\n",
       "    </tr>\n",
       "  </tbody>\n",
       "</table>"
      ],
      "text/plain": [
       "<IPython.core.display.HTML object>"
      ]
     },
     "metadata": {},
     "output_type": "display_data"
    }
   ],
   "source": [
    "niter = 15\n",
    "cv = 5\n",
    "param = {'penalty':['l1', 'l2'], 'C':10**np.linspace(-3,3,1001, endpoint=True)}\n",
    "\n",
    "#usamos liblinear porque funciona mejor con datasets pequeños que los demas, segun la documentación, con class_weight en balanced\n",
    "lreg = LogisticRegression(max_iter=1000,solver='liblinear',class_weight='balanced')\n",
    "lr_bs =  BayesSearchCV(lreg,param,n_iter=niter,cv=cv, n_jobs=-1, refit=True, random_state=0)\n",
    "lr_bs.fit(X_train,y_train);\n",
    "show_html(pd.DataFrame(lr_bs.cv_results_).loc[:,['params', 'mean_test_score','rank_test_score']].sort_values(by='rank_test_score').head().to_html())"
   ]
  },
  {
   "cell_type": "code",
   "execution_count": 121,
   "metadata": {},
   "outputs": [
    {
     "name": "stdout",
     "output_type": "stream",
     "text": [
      "fitted cross_val of lreg: 0.8714285714285716\n"
     ]
    }
   ],
   "source": [
    "lr_ajustado = lr_bs.best_estimator_\n",
    "lr_ajustado.fit(X_train,y_train);\n",
    "print('fitted cross_val of lreg: ' + str(np.mean(cross_val_score(lr_ajustado,X_train,y_train,cv=10))))\n"
   ]
  },
  {
   "attachments": {},
   "cell_type": "markdown",
   "metadata": {},
   "source": [
    "validación cruzada mucho mejor"
   ]
  },
  {
   "cell_type": "code",
   "execution_count": 122,
   "metadata": {},
   "outputs": [
    {
     "data": {
      "image/png": "[encoded data removed]",
      "text/plain": [
       "<Figure size 800x800 with 2 Axes>"
      ]
     },
     "metadata": {},
     "output_type": "display_data"
    }
   ],
   "source": [
    "plt.figure(figsize=(8,8));\n",
    "ConfusionMatrixDisplay.from_estimator(lr_ajustado, X_test,y_test, ax=plt.subplot(),display_labels=labels);"
   ]
  },
  {
   "attachments": {},
   "cell_type": "markdown",
   "metadata": {},
   "source": [
    "en el test podemos ver lo que esperabamos, la classe SL se predice con un 99% de acierto, ya qye tenemos el degree_SL, y tambien parece distinguir bastante bien a los pacientes con la columna sana. Donde tiene mas dificultades es en diagnostico de DH."
   ]
  },
  {
   "cell_type": "code",
   "execution_count": 123,
   "metadata": {},
   "outputs": [
    {
     "name": "stdout",
     "output_type": "stream",
     "text": [
      "              precision    recall  f1-score   support\n",
      "\n",
      "          NO       0.79      0.76      0.78        25\n",
      "          DH       0.61      0.69      0.65        16\n",
      "          SL       1.00      0.98      0.99        52\n",
      "\n",
      "    accuracy                           0.87        93\n",
      "   macro avg       0.80      0.81      0.80        93\n",
      "weighted avg       0.88      0.87      0.87        93\n",
      "\n"
     ]
    }
   ],
   "source": [
    "print(classification_report(lr_ajustado.predict(X_test), y_test,target_names = labels));\n",
    "results_df = save_results(lr_ajustado, X_test, y_test, 'Logistic Regression', results_df)"
   ]
  },
  {
   "attachments": {},
   "cell_type": "markdown",
   "metadata": {},
   "source": [
    "El modelo parece tener el mismo acierto que con los datos de entrenamiento\n"
   ]
  },
  {
   "attachments": {},
   "cell_type": "markdown",
   "metadata": {},
   "source": [
    "---------------------------------------------------------------------------------------"
   ]
  },
  {
   "attachments": {},
   "cell_type": "markdown",
   "metadata": {},
   "source": [
    "<strong>\n",
    "b) Ajusta una SVM para clasificación con kernel polinómico y RBF a los datos explorando\n",
    "los hiperparámetros adecuadamente. Elige adecuadamente el modelo que parezca mejor y\n",
    "compara sus resultados con el de regresión logística.\n"
   ]
  },
  {
   "attachments": {},
   "cell_type": "markdown",
   "metadata": {},
   "source": [
    "### Poly kernel\n"
   ]
  },
  {
   "cell_type": "code",
   "execution_count": 124,
   "metadata": {},
   "outputs": [],
   "source": [
    "pca = PCA()"
   ]
  },
  {
   "cell_type": "code",
   "execution_count": 125,
   "metadata": {},
   "outputs": [
    {
     "data": {
      "image/png": "[encoded data removed]",
      "text/plain": [
       "<Figure size 800x600 with 1 Axes>"
      ]
     },
     "metadata": {},
     "output_type": "display_data"
    }
   ],
   "source": [
    "pca.fit(X_train)\n",
    "fig = plt.figure(figsize=(8,6));\n",
    "plt.plot(range(1,len(pca.explained_variance_ratio_ )+1),pca.explained_variance_ratio_ ,alpha=0.8,marker='.',label=\"Variancia Explicada\");\n",
    "y_label = plt.ylabel('Variancia explicada');\n",
    "x_label = plt.xlabel('Componentes');\n",
    "plt.plot(range(1,len(pca.explained_variance_ratio_ )+1),\n",
    "         np.cumsum(pca.explained_variance_ratio_),\n",
    "         c='red',marker='.',\n",
    "         label=\"Variancia explicada acumulativa\");\n",
    "plt.legend();\n",
    "plt.title('Porcentaje de variancia explicada por componente');"
   ]
  },
  {
   "attachments": {},
   "cell_type": "markdown",
   "metadata": {},
   "source": [
    "dos componentes tienen el ~90% de la varianza"
   ]
  },
  {
   "cell_type": "code",
   "execution_count": 126,
   "metadata": {},
   "outputs": [
    {
     "data": {
      "image/png": "[encoded data removed]",
      "text/plain": [
       "<Figure size 800x800 with 1 Axes>"
      ]
     },
     "metadata": {},
     "output_type": "display_data"
    }
   ],
   "source": [
    "X_train_pca = pca.transform(X_train)\n",
    "X_test_pca = pca.transform(X_test)\n",
    "plt.figure(figsize=(8,8));\n",
    "sns.scatterplot(x=X_train_pca[:,0], y=X_train_pca[:,1], hue=y_train);"
   ]
  },
  {
   "attachments": {},
   "cell_type": "markdown",
   "metadata": {},
   "source": [
    "Parece haber separabilidad entre NO/DH y SL (debida al degreeSL), pero no entre NO y DH"
   ]
  },
  {
   "cell_type": "code",
   "execution_count": 127,
   "metadata": {},
   "outputs": [
    {
     "data": {
      "text/html": [
       "<table border=\"1\" class=\"dataframe\">\n",
       "  <thead>\n",
       "    <tr style=\"text-align: right;\">\n",
       "      <th></th>\n",
       "      <th>params</th>\n",
       "      <th>mean_test_score</th>\n",
       "      <th>rank_test_score</th>\n",
       "    </tr>\n",
       "  </thead>\n",
       "  <tbody>\n",
       "    <tr>\n",
       "      <th>10</th>\n",
       "      <td>{'C': 36.3078054770101, 'degree': 2}</td>\n",
       "      <td>0.862</td>\n",
       "      <td>1</td>\n",
       "    </tr>\n",
       "    <tr>\n",
       "      <th>11</th>\n",
       "      <td>{'C': 10.471285480508985, 'degree': 2}</td>\n",
       "      <td>0.862</td>\n",
       "      <td>2</td>\n",
       "    </tr>\n",
       "    <tr>\n",
       "      <th>14</th>\n",
       "      <td>{'C': 1000.0, 'degree': 2}</td>\n",
       "      <td>0.857</td>\n",
       "      <td>3</td>\n",
       "    </tr>\n",
       "    <tr>\n",
       "      <th>12</th>\n",
       "      <td>{'C': 165.95869074375597, 'degree': 2}</td>\n",
       "      <td>0.853</td>\n",
       "      <td>4</td>\n",
       "    </tr>\n",
       "    <tr>\n",
       "      <th>13</th>\n",
       "      <td>{'C': 13.803842646028839, 'degree': 3}</td>\n",
       "      <td>0.843</td>\n",
       "      <td>5</td>\n",
       "    </tr>\n",
       "  </tbody>\n",
       "</table>"
      ],
      "text/plain": [
       "<IPython.core.display.HTML object>"
      ]
     },
     "metadata": {},
     "output_type": "display_data"
    }
   ],
   "source": [
    "param = {'C':10**np.linspace(-3,3,101), 'degree':[2,3]}\n",
    "\n",
    "psvc =  SVC(kernel='poly', max_iter=25000, random_state=0,class_weight='balanced')\n",
    "psvc_gs = BayesSearchCV(psvc,param,n_iter=niter, cv=cv, n_jobs=-1, refit=True, random_state=0)\n",
    "psvc_gs.fit(X_train, y_train);\n",
    "show_html(pd.DataFrame(psvc_gs.cv_results_).loc[:,['params', 'mean_test_score','rank_test_score']].sort_values(by='rank_test_score').head().to_html())"
   ]
  },
  {
   "cell_type": "code",
   "execution_count": 128,
   "metadata": {},
   "outputs": [
    {
     "name": "stdout",
     "output_type": "stream",
     "text": [
      "fitted cross_val of svmPoly: 0.8755411255411257\n"
     ]
    }
   ],
   "source": [
    "svmPoly = psvc_gs.best_estimator_\n",
    "svmPoly.fit(X_train,y_train);\n",
    "print('fitted cross_val of svmPoly: ' + str(np.mean(cross_val_score(svmPoly,X_train,y_train,cv=10))))\n"
   ]
  },
  {
   "attachments": {},
   "cell_type": "markdown",
   "metadata": {},
   "source": [
    "Obtenemos resultados similares al anterior modelo en la validación cruzada, aunque ligeramtente peores"
   ]
  },
  {
   "cell_type": "code",
   "execution_count": 129,
   "metadata": {},
   "outputs": [
    {
     "data": {
      "image/png": "[encoded data removed]",
      "text/plain": [
       "<Figure size 800x800 with 2 Axes>"
      ]
     },
     "metadata": {},
     "output_type": "display_data"
    }
   ],
   "source": [
    "plt.figure(figsize=(8,8));\n",
    "ConfusionMatrixDisplay.from_estimator(svmPoly, X_test,y_test, ax=plt.subplot(),display_labels=labels);"
   ]
  },
  {
   "cell_type": "code",
   "execution_count": 130,
   "metadata": {},
   "outputs": [
    {
     "name": "stdout",
     "output_type": "stream",
     "text": [
      "              precision    recall  f1-score   support\n",
      "\n",
      "          NO       0.67      0.80      0.73        20\n",
      "          DH       0.72      0.65      0.68        20\n",
      "          SL       0.98      0.94      0.96        53\n",
      "\n",
      "    accuracy                           0.85        93\n",
      "   macro avg       0.79      0.80      0.79        93\n",
      "weighted avg       0.86      0.85      0.85        93\n",
      "\n"
     ]
    }
   ],
   "source": [
    "print(classification_report(svmPoly.predict(X_test), y_test,target_names = labels))\n",
    "results_df = save_results(svmPoly, X_test, y_test, 'polynomial SVM', results_df)"
   ]
  },
  {
   "attachments": {},
   "cell_type": "markdown",
   "metadata": {},
   "source": [
    "en este caso parece que le cuesta mas diferenciar entre DH y NO, y ademas el acierto del SL tambien ha bajado un poco"
   ]
  },
  {
   "attachments": {},
   "cell_type": "markdown",
   "metadata": {},
   "source": [
    "### RBF Kernel"
   ]
  },
  {
   "cell_type": "code",
   "execution_count": 131,
   "metadata": {},
   "outputs": [
    {
     "data": {
      "text/html": [
       "<table border=\"1\" class=\"dataframe\">\n",
       "  <thead>\n",
       "    <tr style=\"text-align: right;\">\n",
       "      <th></th>\n",
       "      <th>params</th>\n",
       "      <th>mean_test_score</th>\n",
       "      <th>rank_test_score</th>\n",
       "    </tr>\n",
       "  </thead>\n",
       "  <tbody>\n",
       "    <tr>\n",
       "      <th>13</th>\n",
       "      <td>{'C': 125.89254117941663, 'gamma': 'auto'}</td>\n",
       "      <td>0.862</td>\n",
       "      <td>1</td>\n",
       "    </tr>\n",
       "    <tr>\n",
       "      <th>10</th>\n",
       "      <td>{'C': 331.13112148259074, 'gamma': 'auto'}</td>\n",
       "      <td>0.852</td>\n",
       "      <td>2</td>\n",
       "    </tr>\n",
       "    <tr>\n",
       "      <th>11</th>\n",
       "      <td>{'C': 331.13112148259074, 'gamma': 'scale'}</td>\n",
       "      <td>0.843</td>\n",
       "      <td>3</td>\n",
       "    </tr>\n",
       "    <tr>\n",
       "      <th>14</th>\n",
       "      <td>{'C': 125.89254117941663, 'gamma': 'scale'}</td>\n",
       "      <td>0.834</td>\n",
       "      <td>4</td>\n",
       "    </tr>\n",
       "    <tr>\n",
       "      <th>5</th>\n",
       "      <td>{'C': 109.64781961431851, 'gamma': 'scale'}</td>\n",
       "      <td>0.834</td>\n",
       "      <td>5</td>\n",
       "    </tr>\n",
       "  </tbody>\n",
       "</table>"
      ],
      "text/plain": [
       "<IPython.core.display.HTML object>"
      ]
     },
     "metadata": {},
     "output_type": "display_data"
    }
   ],
   "source": [
    "param = {'C':10**np.linspace(-3,3,101), 'gamma':['scale','auto']}\n",
    "\n",
    "rbsvc =  SVC(kernel='rbf', max_iter=25000, random_state=0,class_weight='balanced')\n",
    "rbsvc_gs = BayesSearchCV(rbsvc,param,n_iter=niter, cv=cv, n_jobs=-1, refit=True, random_state=0)\n",
    "rbsvc_gs.fit(X_train, y_train);\n",
    "show_html(pd.DataFrame(rbsvc_gs.cv_results_).loc[:,['params', 'mean_test_score','rank_test_score']].sort_values(by='rank_test_score').head().to_html())"
   ]
  },
  {
   "cell_type": "code",
   "execution_count": 132,
   "metadata": {},
   "outputs": [
    {
     "name": "stdout",
     "output_type": "stream",
     "text": [
      "fitted cross_val of svmRBF: 0.8571428571428571\n"
     ]
    }
   ],
   "source": [
    "svmRBF = rbsvc_gs.best_estimator_\n",
    "svmRBF.fit(X_train,y_train);\n",
    "print('fitted cross_val of svmRBF: ' + str(np.mean(cross_val_score(svmRBF,X_train,y_train,cv=10))))\n"
   ]
  },
  {
   "cell_type": "code",
   "execution_count": 133,
   "metadata": {},
   "outputs": [
    {
     "data": {
      "image/png": "[encoded data removed]",
      "text/plain": [
       "<Figure size 800x800 with 2 Axes>"
      ]
     },
     "metadata": {},
     "output_type": "display_data"
    }
   ],
   "source": [
    "plt.figure(figsize=(8,8));\n",
    "ConfusionMatrixDisplay.from_estimator(svmRBF, X_test,y_test, ax=plt.subplot(),display_labels=labels);"
   ]
  },
  {
   "cell_type": "code",
   "execution_count": 134,
   "metadata": {},
   "outputs": [
    {
     "name": "stdout",
     "output_type": "stream",
     "text": [
      "              precision    recall  f1-score   support\n",
      "\n",
      "          NO       0.71      0.74      0.72        23\n",
      "          DH       0.78      0.70      0.74        20\n",
      "          SL       0.96      0.98      0.97        50\n",
      "\n",
      "    accuracy                           0.86        93\n",
      "   macro avg       0.82      0.81      0.81        93\n",
      "weighted avg       0.86      0.86      0.86        93\n",
      "\n"
     ]
    }
   ],
   "source": [
    "print(classification_report(svmRBF.predict(X_test), y_test,target_names = labels))\n",
    "results_df = save_results(svmRBF, X_test, y_test, 'RBF SVM', results_df)"
   ]
  },
  {
   "attachments": {},
   "cell_type": "markdown",
   "metadata": {},
   "source": [
    "Este modelo parece distinguir mejor que el anterior todas las classes, aunque siguie habiendo un poco de confusión entre no y DH"
   ]
  },
  {
   "attachments": {},
   "cell_type": "markdown",
   "metadata": {},
   "source": [
    "<strong> \n",
    "con el kernel RBF conseguimos hacer una mejor distinción de la classe DH a costa de un poco de precisión en las otras dos en comparación a la regressión logística\n",
    "\n",
    "\n"
   ]
  },
  {
   "attachments": {},
   "cell_type": "markdown",
   "metadata": {},
   "source": [
    "---------------------------------------------------------------------------------------"
   ]
  },
  {
   "attachments": {},
   "cell_type": "markdown",
   "metadata": {},
   "source": [
    "<strong>\n",
    "c) Ajusta los modelos random forest y gradient boosting para clasificación explorando los hiperparámetros adecuadamente. Elige adecuadamente el modelo que parezca mejor y compara sus resultados con el de regresión logística y el mejor modelo del apartado anterior.\n"
   ]
  },
  {
   "attachments": {},
   "cell_type": "markdown",
   "metadata": {},
   "source": [
    "### Random Forest"
   ]
  },
  {
   "cell_type": "code",
   "execution_count": 135,
   "metadata": {},
   "outputs": [],
   "source": [
    "param = {'n_estimators': [5,10,25,40, 50, 75,100, 200], \n",
    "         'criterion':['gini','entropy'], \n",
    "         'max_depth':[None, 1, 2, 3,  5,  8, 9,10,15],\n",
    "         'min_samples_leaf':[1,2,3,5,10]}\n",
    "\n",
    "rf =  RandomForestClassifier(random_state=0,class_weight='balanced')\n",
    "rf_bs =  BayesSearchCV(rf,param,n_iter=15, cv=5, n_jobs=-1, refit=True, random_state=0)\n",
    "rf_bs.fit(X_train, y_train);"
   ]
  },
  {
   "cell_type": "code",
   "execution_count": 136,
   "metadata": {},
   "outputs": [
    {
     "data": {
      "text/html": [
       "<table border=\"1\" class=\"dataframe\">\n",
       "  <thead>\n",
       "    <tr style=\"text-align: right;\">\n",
       "      <th></th>\n",
       "      <th>params</th>\n",
       "      <th>mean_test_score</th>\n",
       "      <th>rank_test_score</th>\n",
       "    </tr>\n",
       "  </thead>\n",
       "  <tbody>\n",
       "    <tr>\n",
       "      <th>0</th>\n",
       "      <td>{'criterion': 'gini', 'max_depth': 8, 'min_samples_leaf': 3, 'n_estimators': 75}</td>\n",
       "      <td>0.843</td>\n",
       "      <td>1</td>\n",
       "    </tr>\n",
       "    <tr>\n",
       "      <th>6</th>\n",
       "      <td>{'criterion': 'gini', 'max_depth': 9, 'min_samples_leaf': 3, 'n_estimators': 10}</td>\n",
       "      <td>0.839</td>\n",
       "      <td>2</td>\n",
       "    </tr>\n",
       "    <tr>\n",
       "      <th>10</th>\n",
       "      <td>{'criterion': 'gini', 'max_depth': 10, 'min_samples_leaf': 3, 'n_estimators': 10}</td>\n",
       "      <td>0.839</td>\n",
       "      <td>2</td>\n",
       "    </tr>\n",
       "    <tr>\n",
       "      <th>14</th>\n",
       "      <td>{'criterion': 'entropy', 'max_depth': 8, 'min_samples_leaf': 3, 'n_estimators': 75}</td>\n",
       "      <td>0.839</td>\n",
       "      <td>4</td>\n",
       "    </tr>\n",
       "    <tr>\n",
       "      <th>9</th>\n",
       "      <td>{'criterion': 'entropy', 'max_depth': 5, 'min_samples_leaf': 2, 'n_estimators': 100}</td>\n",
       "      <td>0.838</td>\n",
       "      <td>5</td>\n",
       "    </tr>\n",
       "  </tbody>\n",
       "</table>"
      ],
      "text/plain": [
       "<IPython.core.display.HTML object>"
      ]
     },
     "metadata": {},
     "output_type": "display_data"
    }
   ],
   "source": [
    "show_html(pd.DataFrame(rf_bs.cv_results_).loc[:,['params', 'mean_test_score','rank_test_score']].sort_values(by='rank_test_score').head().to_html())"
   ]
  },
  {
   "cell_type": "code",
   "execution_count": 137,
   "metadata": {},
   "outputs": [
    {
     "name": "stdout",
     "output_type": "stream",
     "text": [
      "fitted cross_val of lreg: 0.8619047619047621\n"
     ]
    }
   ],
   "source": [
    "ranForest = rf_bs.best_estimator_\n",
    "ranForest.fit(X_train,y_train);\n",
    "print('fitted cross_val of lreg: ' + str(np.mean(cross_val_score(ranForest,X_train,y_train,cv=10))))\n"
   ]
  },
  {
   "cell_type": "code",
   "execution_count": 138,
   "metadata": {},
   "outputs": [
    {
     "data": {
      "image/png": "[encoded data removed]",
      "text/plain": [
       "<Figure size 800x800 with 2 Axes>"
      ]
     },
     "metadata": {},
     "output_type": "display_data"
    }
   ],
   "source": [
    "plt.figure(figsize=(8,8));\n",
    "ConfusionMatrixDisplay.from_estimator(ranForest, X_test,y_test, ax=plt.subplot(),display_labels=labels);"
   ]
  },
  {
   "cell_type": "code",
   "execution_count": 139,
   "metadata": {},
   "outputs": [
    {
     "name": "stdout",
     "output_type": "stream",
     "text": [
      "              precision    recall  f1-score   support\n",
      "\n",
      "          NO       0.71      0.77      0.74        22\n",
      "          DH       0.72      0.65      0.68        20\n",
      "          SL       1.00      1.00      1.00        51\n",
      "\n",
      "    accuracy                           0.87        93\n",
      "   macro avg       0.81      0.81      0.81        93\n",
      "weighted avg       0.87      0.87      0.87        93\n",
      "\n"
     ]
    }
   ],
   "source": [
    "print(classification_report(ranForest.predict(X_test), y_test,target_names = labels))\n",
    "results_df = save_results(ranForest, X_test, y_test, 'Random Forest', results_df)"
   ]
  },
  {
   "attachments": {},
   "cell_type": "markdown",
   "metadata": {},
   "source": [
    "Este modelo nos da un resultado similar a los anteriores, aunque cabe destacar que ha tenido un 100% de acierto en SL, tanto en precisión como en recall. Parece que tiene muy claro como separar SL del resto pero no DH de NO, que ya habiamos visto que tenian poca separabilidad"
   ]
  },
  {
   "attachments": {},
   "cell_type": "markdown",
   "metadata": {},
   "source": [
    "### Gradient Boosting\n"
   ]
  },
  {
   "cell_type": "code",
   "execution_count": 140,
   "metadata": {},
   "outputs": [],
   "source": [
    "param = {'n_estimators': [5,10,25,40, 50, 75,100, 200], \n",
    "         'loss':['log_loss'], ##exponential no acepta mas de dos classes\n",
    "         'criterion':['friedman_mse', 'squared_error'], \n",
    "         'max_depth':[None, 1, 2, 3,  5,  8, 9,10,15],\n",
    "         'min_samples_leaf':[1,2,3,5,10], \n",
    "         'learning_rate':[0.1,0.5, 1,3, 5, 10, 15]}\n",
    "\n",
    "gb =  GradientBoostingClassifier(random_state=0,n_iter_no_change=5)\n",
    "gb_bs =  BayesSearchCV(gb,param,n_iter=40, cv=10, n_jobs=-1, refit=True, random_state=0)\n",
    "gb_bs.fit(X_train, y_train);"
   ]
  },
  {
   "cell_type": "code",
   "execution_count": 141,
   "metadata": {},
   "outputs": [
    {
     "data": {
      "text/html": [
       "<table border=\"1\" class=\"dataframe\">\n",
       "  <thead>\n",
       "    <tr style=\"text-align: right;\">\n",
       "      <th></th>\n",
       "      <th>params</th>\n",
       "      <th>mean_test_score</th>\n",
       "      <th>rank_test_score</th>\n",
       "    </tr>\n",
       "  </thead>\n",
       "  <tbody>\n",
       "    <tr>\n",
       "      <th>29</th>\n",
       "      <td>{'criterion': 'squared_error', 'learning_rate': 0.1, 'loss': 'log_loss', 'max_depth': 10, 'min_samples_leaf': 10, 'n_estimators': 200}</td>\n",
       "      <td>0.830</td>\n",
       "      <td>1</td>\n",
       "    </tr>\n",
       "    <tr>\n",
       "      <th>35</th>\n",
       "      <td>{'criterion': 'squared_error', 'learning_rate': 0.1, 'loss': 'log_loss', 'max_depth': 9, 'min_samples_leaf': 10, 'n_estimators': 100}</td>\n",
       "      <td>0.830</td>\n",
       "      <td>1</td>\n",
       "    </tr>\n",
       "    <tr>\n",
       "      <th>21</th>\n",
       "      <td>{'criterion': 'friedman_mse', 'learning_rate': 1.0, 'loss': 'log_loss', 'max_depth': 10, 'min_samples_leaf': 3, 'n_estimators': 75}</td>\n",
       "      <td>0.825</td>\n",
       "      <td>3</td>\n",
       "    </tr>\n",
       "    <tr>\n",
       "      <th>19</th>\n",
       "      <td>{'criterion': 'friedman_mse', 'learning_rate': 0.5, 'loss': 'log_loss', 'max_depth': None, 'min_samples_leaf': 5, 'n_estimators': 25}</td>\n",
       "      <td>0.825</td>\n",
       "      <td>4</td>\n",
       "    </tr>\n",
       "    <tr>\n",
       "      <th>16</th>\n",
       "      <td>{'criterion': 'squared_error', 'learning_rate': 0.5, 'loss': 'log_loss', 'max_depth': 1, 'min_samples_leaf': 10, 'n_estimators': 100}</td>\n",
       "      <td>0.825</td>\n",
       "      <td>4</td>\n",
       "    </tr>\n",
       "  </tbody>\n",
       "</table>"
      ],
      "text/plain": [
       "<IPython.core.display.HTML object>"
      ]
     },
     "metadata": {},
     "output_type": "display_data"
    }
   ],
   "source": [
    "show_html(pd.DataFrame(gb_bs.cv_results_).loc[:,['params', 'mean_test_score','rank_test_score']].sort_values(by='rank_test_score').head().to_html())"
   ]
  },
  {
   "cell_type": "code",
   "execution_count": 142,
   "metadata": {},
   "outputs": [
    {
     "name": "stdout",
     "output_type": "stream",
     "text": [
      "fitted cross_val of lreg: 0.8296536796536798\n"
     ]
    }
   ],
   "source": [
    "gradBoosting = gb_bs.best_estimator_\n",
    "gradBoosting.fit(X_train,y_train);\n",
    "print('fitted cross_val of lreg: ' + str(np.mean(cross_val_score(gradBoosting,X_train,y_train,cv=10))))\n"
   ]
  },
  {
   "cell_type": "code",
   "execution_count": 143,
   "metadata": {},
   "outputs": [
    {
     "data": {
      "image/png": "[encoded data removed]",
      "text/plain": [
       "<Figure size 800x800 with 2 Axes>"
      ]
     },
     "metadata": {},
     "output_type": "display_data"
    }
   ],
   "source": [
    "plt.figure(figsize=(8,8));\n",
    "ConfusionMatrixDisplay.from_estimator(gradBoosting, X_test,y_test, ax=plt.subplot(),display_labels=labels);"
   ]
  },
  {
   "cell_type": "code",
   "execution_count": 144,
   "metadata": {},
   "outputs": [
    {
     "name": "stdout",
     "output_type": "stream",
     "text": [
      "              precision    recall  f1-score   support\n",
      "\n",
      "          NO       0.67      0.64      0.65        25\n",
      "          DH       0.44      0.50      0.47        16\n",
      "          SL       0.98      0.96      0.97        52\n",
      "\n",
      "    accuracy                           0.80        93\n",
      "   macro avg       0.70      0.70      0.70        93\n",
      "weighted avg       0.80      0.80      0.80        93\n",
      "\n"
     ]
    }
   ],
   "source": [
    "print(classification_report(gradBoosting.predict(X_test), y_test,target_names = labels))\n",
    "results_df = save_results(gradBoosting, X_test, y_test, 'Gradient Boosting', results_df)"
   ]
  },
  {
   "attachments": {},
   "cell_type": "markdown",
   "metadata": {},
   "source": [
    "Este parece ser el peor hasta ahora. Como el resto, la classe SL la distingue bastante bien, pero el NO y sobretodo el DH tienen mucha confusión."
   ]
  },
  {
   "attachments": {},
   "cell_type": "markdown",
   "metadata": {},
   "source": [
    "-------------------------------------------------------------------------"
   ]
  },
  {
   "attachments": {},
   "cell_type": "markdown",
   "metadata": {},
   "source": [
    "<strong>\n",
    "d) Como hemos visto en teoría, cuando tenemos varios modelos podemos combinarlos usando diferentes estrategias. Entrena un VotingClassifier usando el modelo regresión logística y los dos mejores modelos que has encontrado en los apartados anteriores con sus\n",
    "mejores hiperparámetros. ¿Es mejor el modelo combinado?"
   ]
  },
  {
   "cell_type": "code",
   "execution_count": 145,
   "metadata": {},
   "outputs": [
    {
     "data": {
      "text/html": [
       "<div>\n",
       "<style scoped>\n",
       "    .dataframe tbody tr th:only-of-type {\n",
       "        vertical-align: middle;\n",
       "    }\n",
       "\n",
       "    .dataframe tbody tr th {\n",
       "        vertical-align: top;\n",
       "    }\n",
       "\n",
       "    .dataframe thead th {\n",
       "        text-align: right;\n",
       "    }\n",
       "</style>\n",
       "<table border=\"1\" class=\"dataframe\">\n",
       "  <thead>\n",
       "    <tr style=\"text-align: right;\">\n",
       "      <th></th>\n",
       "      <th>test acc</th>\n",
       "      <th>precision score (W)</th>\n",
       "      <th>recall score (W)</th>\n",
       "      <th>f1 score (W)</th>\n",
       "    </tr>\n",
       "  </thead>\n",
       "  <tbody>\n",
       "    <tr>\n",
       "      <th>Logistic Regression</th>\n",
       "      <td>0.871</td>\n",
       "      <td>0.867</td>\n",
       "      <td>0.871</td>\n",
       "      <td>0.868</td>\n",
       "    </tr>\n",
       "    <tr>\n",
       "      <th>Random Forest</th>\n",
       "      <td>0.871</td>\n",
       "      <td>0.874</td>\n",
       "      <td>0.871</td>\n",
       "      <td>0.872</td>\n",
       "    </tr>\n",
       "    <tr>\n",
       "      <th>RBF SVM</th>\n",
       "      <td>0.860</td>\n",
       "      <td>0.864</td>\n",
       "      <td>0.860</td>\n",
       "      <td>0.861</td>\n",
       "    </tr>\n",
       "    <tr>\n",
       "      <th>polynomial SVM</th>\n",
       "      <td>0.849</td>\n",
       "      <td>0.850</td>\n",
       "      <td>0.849</td>\n",
       "      <td>0.847</td>\n",
       "    </tr>\n",
       "    <tr>\n",
       "      <th>Gradient Boosting</th>\n",
       "      <td>0.796</td>\n",
       "      <td>0.789</td>\n",
       "      <td>0.796</td>\n",
       "      <td>0.792</td>\n",
       "    </tr>\n",
       "  </tbody>\n",
       "</table>\n",
       "</div>"
      ],
      "text/plain": [
       "                     test acc  precision score (W)  recall score (W)  \\\n",
       "Logistic Regression     0.871                0.867             0.871   \n",
       "Random Forest           0.871                0.874             0.871   \n",
       "RBF SVM                 0.860                0.864             0.860   \n",
       "polynomial SVM          0.849                0.850             0.849   \n",
       "Gradient Boosting       0.796                0.789             0.796   \n",
       "\n",
       "                     f1 score (W)  \n",
       "Logistic Regression         0.868  \n",
       "Random Forest               0.872  \n",
       "RBF SVM                     0.861  \n",
       "polynomial SVM              0.847  \n",
       "Gradient Boosting           0.792  "
      ]
     },
     "execution_count": 145,
     "metadata": {},
     "output_type": "execute_result"
    }
   ],
   "source": [
    "\n",
    "results_df.sort_values(by=['test acc'], ascending=False)"
   ]
  },
  {
   "attachments": {},
   "cell_type": "markdown",
   "metadata": {},
   "source": [
    "Vamos a unsar la logistic Regression, que tiene la mayor score de todas, RBF SVM, que se puede apreciar en su matriz de confusión que distingue bastante bien NO y DH; y por ultimo Random Forest, que tiene un 1 en accuracy de SL"
   ]
  },
  {
   "cell_type": "code",
   "execution_count": 146,
   "metadata": {},
   "outputs": [
    {
     "name": "stdout",
     "output_type": "stream",
     "text": [
      "0.8847780126849895\n"
     ]
    }
   ],
   "source": [
    "vs = VotingClassifier([('lr', lr_bs.best_estimator_),\n",
    "                        ('rbf', rbsvc_gs.best_estimator_),\n",
    "                        ('rf',rf_bs.best_estimator_)],voting='hard', n_jobs=1)\n",
    "print(np.mean(cross_val_score(vs,X_train,y_train,cv=5)))                             \n",
    "vs.fit(X_train, y_train); "
   ]
  },
  {
   "cell_type": "code",
   "execution_count": 147,
   "metadata": {},
   "outputs": [
    {
     "name": "stdout",
     "output_type": "stream",
     "text": [
      "              precision    recall  f1-score   support\n",
      "\n",
      "          NO       0.79      0.86      0.83        22\n",
      "          DH       0.83      0.75      0.79        20\n",
      "          SL       1.00      1.00      1.00        51\n",
      "\n",
      "    accuracy                           0.91        93\n",
      "   macro avg       0.88      0.87      0.87        93\n",
      "weighted avg       0.91      0.91      0.91        93\n",
      "\n"
     ]
    }
   ],
   "source": [
    "print(classification_report(vs.predict(X_test), y_test,target_names=labels))\n",
    "results_df = save_results(vs, X_test, y_test, 'Voting LR+RBF+RF', results_df)"
   ]
  },
  {
   "cell_type": "code",
   "execution_count": 148,
   "metadata": {},
   "outputs": [
    {
     "data": {
      "text/html": [
       "<div>\n",
       "<style scoped>\n",
       "    .dataframe tbody tr th:only-of-type {\n",
       "        vertical-align: middle;\n",
       "    }\n",
       "\n",
       "    .dataframe tbody tr th {\n",
       "        vertical-align: top;\n",
       "    }\n",
       "\n",
       "    .dataframe thead th {\n",
       "        text-align: right;\n",
       "    }\n",
       "</style>\n",
       "<table border=\"1\" class=\"dataframe\">\n",
       "  <thead>\n",
       "    <tr style=\"text-align: right;\">\n",
       "      <th></th>\n",
       "      <th>test acc</th>\n",
       "      <th>precision score (W)</th>\n",
       "      <th>recall score (W)</th>\n",
       "      <th>f1 score (W)</th>\n",
       "    </tr>\n",
       "  </thead>\n",
       "  <tbody>\n",
       "    <tr>\n",
       "      <th>Voting LR+RBF+RF</th>\n",
       "      <td>0.914</td>\n",
       "      <td>0.916</td>\n",
       "      <td>0.914</td>\n",
       "      <td>0.914</td>\n",
       "    </tr>\n",
       "    <tr>\n",
       "      <th>Logistic Regression</th>\n",
       "      <td>0.871</td>\n",
       "      <td>0.867</td>\n",
       "      <td>0.871</td>\n",
       "      <td>0.868</td>\n",
       "    </tr>\n",
       "    <tr>\n",
       "      <th>Random Forest</th>\n",
       "      <td>0.871</td>\n",
       "      <td>0.874</td>\n",
       "      <td>0.871</td>\n",
       "      <td>0.872</td>\n",
       "    </tr>\n",
       "    <tr>\n",
       "      <th>RBF SVM</th>\n",
       "      <td>0.860</td>\n",
       "      <td>0.864</td>\n",
       "      <td>0.860</td>\n",
       "      <td>0.861</td>\n",
       "    </tr>\n",
       "    <tr>\n",
       "      <th>polynomial SVM</th>\n",
       "      <td>0.849</td>\n",
       "      <td>0.850</td>\n",
       "      <td>0.849</td>\n",
       "      <td>0.847</td>\n",
       "    </tr>\n",
       "    <tr>\n",
       "      <th>Gradient Boosting</th>\n",
       "      <td>0.796</td>\n",
       "      <td>0.789</td>\n",
       "      <td>0.796</td>\n",
       "      <td>0.792</td>\n",
       "    </tr>\n",
       "  </tbody>\n",
       "</table>\n",
       "</div>"
      ],
      "text/plain": [
       "                     test acc  precision score (W)  recall score (W)  \\\n",
       "Voting LR+RBF+RF        0.914                0.916             0.914   \n",
       "Logistic Regression     0.871                0.867             0.871   \n",
       "Random Forest           0.871                0.874             0.871   \n",
       "RBF SVM                 0.860                0.864             0.860   \n",
       "polynomial SVM          0.849                0.850             0.849   \n",
       "Gradient Boosting       0.796                0.789             0.796   \n",
       "\n",
       "                     f1 score (W)  \n",
       "Voting LR+RBF+RF            0.914  \n",
       "Logistic Regression         0.868  \n",
       "Random Forest               0.872  \n",
       "RBF SVM                     0.861  \n",
       "polynomial SVM              0.847  \n",
       "Gradient Boosting           0.792  "
      ]
     },
     "execution_count": 148,
     "metadata": {},
     "output_type": "execute_result"
    }
   ],
   "source": [
    "results_df.sort_values(by=['test acc'], ascending=False)"
   ]
  },
  {
   "attachments": {},
   "cell_type": "markdown",
   "metadata": {},
   "source": [
    "Parece que en este caso el mejor modelo es el que resulta de combinar los tres mencionados anteriormente. Esto seguramente se deba a que cada uno de los modelos dan resultados algo distintos y cada uno hace bien una cosa distinta."
   ]
  }
 ],
 "metadata": {
  "kernelspec": {
   "display_name": "Python 3",
   "language": "python",
   "name": "python3"
  },
  "language_info": {
   "codemirror_mode": {
    "name": "ipython",
    "version": 3
   },
   "file_extension": ".py",
   "mimetype": "text/x-python",
   "name": "python",
   "nbconvert_exporter": "python",
   "pygments_lexer": "ipython3",
   "version": "3.11.1"
  },
  "orig_nbformat": 4,
  "vscode": {
   "interpreter": {
    "hash": "ae91f42b31be0141130da389fba26875369287e1461ee69c180eeae5b2ca69fa"
   }
  }
 },
 "nbformat": 4,
 "nbformat_minor": 2
}
